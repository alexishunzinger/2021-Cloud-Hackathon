{
 "cells": [
  {
   "cell_type": "markdown",
   "metadata": {},
   "source": [
    "# Harmonizing data located within and outside of the NASA Earthdata Cloud"
   ]
  },
  {
   "cell_type": "markdown",
   "metadata": {},
   "source": [
    "---"
   ]
  },
  {
   "cell_type": "markdown",
   "metadata": {},
   "source": [
    "## Timing\n",
    "\n",
    "- Exercise: 45 min\n"
   ]
  },
  {
   "cell_type": "markdown",
   "metadata": {},
   "source": [
    "---"
   ]
  },
  {
   "cell_type": "markdown",
   "metadata": {},
   "source": [
    "## Summary\n",
    "\n",
    "This tutorial will combine several workflow steps and components from the previous days, demonstrating the process of using the geolocation of data available outside of the Earthdata Cloud to then access coincident variables of cloud-accessible data. This may be a common use case as NASA Earthdata continues to migrate to the cloud, producing a \"hybrid\" data archive across Amazon Web Services (AWS) and original on-premise data storage systems. Additionally, you may also want to combine field measurements with remote sensing data available on the Earthdata Cloud.\n",
    "\n",
    "This specific example explores the harmonization of the ICESat-2 ATL03 data product, currently (as of November 2021) available publicly via direct download at the NSIDC DAAC, with Sea Surface Temperature variables available from PO.DAAC on the Earthdata Cloud. \n",
    "\n",
    "\n",
    "### Objectives\n",
    "\n",
    "[TODO]"
   ]
  },
  {
   "cell_type": "markdown",
   "metadata": {},
   "source": [
    "---"
   ]
  },
  {
   "cell_type": "markdown",
   "metadata": {},
   "source": [
    "### Import packages"
   ]
  },
  {
   "cell_type": "code",
   "execution_count": null,
   "metadata": {},
   "outputs": [],
   "source": [
    "import requests\n",
    "import netrc\n",
    "from pprint import pprint\n",
    "import os\n",
    "from pathlib import Path\n",
    "\n",
    "import s3fs\n",
    "\n",
    "import xarray as xr\n",
    "\n",
    "import matplotlib.pyplot as plt\n",
    "import cartopy.crs as ccrs\n",
    "\n",
    "# packages below here are not used\n",
    "#from xml.etree import ElementTree as ET\n",
    "#import time\n",
    "#import zipfile\n",
    "#import io\n",
    "#import shutil\n",
    "#import json\n",
    "#from urllib import request"
   ]
  },
  {
   "cell_type": "markdown",
   "metadata": {
    "tags": []
   },
   "source": [
    "### Determine storage location of datasets of interest\n",
    "\n",
    "First, let's see whether our datasets of interest reside in the Earthdata Cloud or whether they reside on premise, or \"on prem\" at a local data center.\n",
    "\n",
    "Background from CMR API [TODO: consider removing]:\n",
    "The cloud_hosted parameter can be set to “true” or “false”. When true, the results will be restricted to collections that have a DirectDistributionInformation element or have been tagged with gov.nasa.earthdatacloud.s3."
   ]
  },
  {
   "cell_type": "markdown",
   "metadata": {},
   "source": [
    "We are building off of the CMR introductory tutorial, beginning with a collection search."
   ]
  },
  {
   "cell_type": "code",
   "execution_count": null,
   "metadata": {},
   "outputs": [],
   "source": [
    "cmr_search_url = 'https://cmr.earthdata.nasa.gov/search'"
   ]
  },
  {
   "cell_type": "markdown",
   "metadata": {},
   "source": [
    "We want to search by collection to inspect the access and service options that exist:"
   ]
  },
  {
   "cell_type": "code",
   "execution_count": null,
   "metadata": {},
   "outputs": [],
   "source": [
    "cmr_collection_url = f'{cmr_search_url}/{\"collections\"}'"
   ]
  },
  {
   "cell_type": "markdown",
   "metadata": {},
   "source": [
    "In the CMR introduction tutorial, we explored cloud-hosted collections from different DAAC providers, and identified the CMR concept-id for a given dataset id (also referred to as a short_name). Here we'll start with two datasets that we want to explore over a coincident area and time:"
   ]
  },
  {
   "cell_type": "code",
   "execution_count": null,
   "metadata": {},
   "outputs": [],
   "source": [
    "modis_name = 'MODIS_A-JPL-L2P-v2019.0'\n",
    "icesat2_name = 'ATL03'"
   ]
  },
  {
   "cell_type": "markdown",
   "metadata": {
    "tags": []
   },
   "source": [
    "Like in the intro tutorial, we're going to first determine what concept-ids are returned for the MODIS dataset. First, retrieve collection results based on the MODIS `short_name`:"
   ]
  },
  {
   "cell_type": "code",
   "execution_count": null,
   "metadata": {},
   "outputs": [],
   "source": [
    "response = requests.get(cmr_collection_url, \n",
    "                        params={\n",
    "                            'short_name': modis_name,\n",
    "                            },\n",
    "                        headers={\n",
    "                            'Accept': 'application/json'\n",
    "                            }\n",
    "                       )\n",
    "response = response.json()"
   ]
  },
  {
   "cell_type": "markdown",
   "metadata": {},
   "source": [
    "For each collection result, print out the CMR concept-id and version:"
   ]
  },
  {
   "cell_type": "code",
   "execution_count": null,
   "metadata": {},
   "outputs": [],
   "source": [
    "collections = response['feed']['entry']\n",
    "\n",
    "for collection in collections:\n",
    "    print(f'{collection[\"id\"]} {\"version:\"}{collection[\"version_id\"]}')"
   ]
  },
  {
   "cell_type": "markdown",
   "metadata": {},
   "source": [
    "Two collections are returned, both at version 2019.0. We can see from the suffix of the id that one is associated with \"POCLOUD\" versus \"PODAAC\". That gives us a clue in terms of where the data are hosted, but we can also use the `cloud_hosted` parameter set to True to confirm."
   ]
  },
  {
   "cell_type": "code",
   "execution_count": null,
   "metadata": {
    "tags": []
   },
   "outputs": [],
   "source": [
    "response = requests.get(cmr_collection_url, \n",
    "                        params={\n",
    "                            'short_name': modis_name,\n",
    "                            'cloud_hosted': 'True',\n",
    "                            },\n",
    "                        headers={\n",
    "                            'Accept': 'application/json'\n",
    "                            }\n",
    "                       )\n",
    "response = response.json()"
   ]
  },
  {
   "cell_type": "code",
   "execution_count": null,
   "metadata": {},
   "outputs": [],
   "source": [
    "collections = response['feed']['entry']\n",
    "\n",
    "for collection in collections:\n",
    "    print(f'{collection[\"id\"]} {\"version:\"}{collection[\"version_id\"]}')"
   ]
  },
  {
   "cell_type": "markdown",
   "metadata": {},
   "source": [
    "We will save this concept-id to use later on when we access the data granules."
   ]
  },
  {
   "cell_type": "code",
   "execution_count": null,
   "metadata": {},
   "outputs": [],
   "source": [
    "modis_cloud_id = collections[0][\"id\"]"
   ]
  },
  {
   "cell_type": "markdown",
   "metadata": {},
   "source": [
    "Now we will try our ICESat-2 dataset to see what id's are returned for a given dataset name."
   ]
  },
  {
   "cell_type": "code",
   "execution_count": null,
   "metadata": {},
   "outputs": [],
   "source": [
    "response = requests.get(cmr_collection_url, \n",
    "                        params={\n",
    "                            'short_name': icesat2_name,\n",
    "                            },\n",
    "                        headers={\n",
    "                            'Accept': 'application/json'\n",
    "                            }\n",
    "                       )\n",
    "response = response.json()"
   ]
  },
  {
   "cell_type": "code",
   "execution_count": null,
   "metadata": {},
   "outputs": [],
   "source": [
    "collections = response['feed']['entry']\n",
    "\n",
    "for collection in collections:\n",
    "    print(f'{collection[\"id\"]} {\"version:\"}{collection[\"version_id\"]}')"
   ]
  },
  {
   "cell_type": "markdown",
   "metadata": {},
   "source": [
    "Two separate datasets exist in the CMR, one at version 3 and one at version 4. Let's see if these are `cloud_hosted`:"
   ]
  },
  {
   "cell_type": "code",
   "execution_count": null,
   "metadata": {
    "tags": []
   },
   "outputs": [],
   "source": [
    "response = requests.get(cmr_collection_url, \n",
    "                        params={\n",
    "                            'short_name': icesat2_name,\n",
    "                            'cloud_hosted': 'False',\n",
    "                            },\n",
    "                        headers={\n",
    "                            'Accept': 'application/json'\n",
    "                            }\n",
    "                       )\n",
    "response = response.json()"
   ]
  },
  {
   "cell_type": "code",
   "execution_count": null,
   "metadata": {},
   "outputs": [],
   "source": [
    "collections = response['feed']['entry']\n",
    "\n",
    "for collection in collections:\n",
    "    print(f'{collection[\"id\"]} {\"version:\"}{collection[\"version_id\"]}')"
   ]
  },
  {
   "cell_type": "markdown",
   "metadata": {},
   "source": [
    "When set to `False`, we get our collections back. We have now determined that we have a copy of the MODIS dataset in the cloud, whereas the ICESat-2 dataset (both versions) remains \"on premise\", residing in a local data center. "
   ]
  },
  {
   "cell_type": "markdown",
   "metadata": {},
   "source": [
    "Save the ATL03 concept ID and the MODIS GHRSST concept ID to variables:"
   ]
  },
  {
   "cell_type": "code",
   "execution_count": null,
   "metadata": {},
   "outputs": [],
   "source": [
    "icesat2_concept_id = 'C1997321091-NSIDC_ECS'\n",
    "modis_concept_id = 'C1940475563-POCLOUD'"
   ]
  },
  {
   "cell_type": "markdown",
   "metadata": {
    "tags": []
   },
   "source": [
    "#### Specify time range and area of interest \n",
    "\n",
    "We are going to focus on getting data for an area north of Greenland for a single day in June.\n",
    "\n",
    "These `bounding_box` and `temporal` variables will be used for data search, subset, and access below"
   ]
  },
  {
   "cell_type": "code",
   "execution_count": null,
   "metadata": {},
   "outputs": [],
   "source": [
    "# Bounding Box spatial parameter in decimal degree 'W,S,E,N' format.\n",
    "bounding_box = '-62.8,81.7,-56.4,83'\n",
    "\n",
    "# Each date in yyyy-MM-ddTHH:mm:ssZ format; date range in start,end format\n",
    "temporal = '2019-06-22T00:00:00Z,2019-06-22T23:59:59Z'"
   ]
  },
  {
   "cell_type": "markdown",
   "metadata": {},
   "source": [
    "Perform a granule search over our time and area of interest. How many granules are returned?"
   ]
  },
  {
   "cell_type": "code",
   "execution_count": null,
   "metadata": {},
   "outputs": [],
   "source": [
    "granule_url = f'{cmr_search_url}/{\"granules\"}'"
   ]
  },
  {
   "cell_type": "code",
   "execution_count": null,
   "metadata": {},
   "outputs": [],
   "source": [
    "response = requests.get(granule_url, \n",
    "                        params={\n",
    "                            'concept_id': icesat2_concept_id,\n",
    "                            'temporal': temporal,\n",
    "                            'bounding_box': bounding_box,\n",
    "                            'page_size': 200,\n",
    "                            },\n",
    "                        headers={\n",
    "                            'Accept': 'application/json'\n",
    "                            }\n",
    "                       )\n",
    "print(response.headers['CMR-Hits'])"
   ]
  },
  {
   "cell_type": "markdown",
   "metadata": {},
   "source": [
    "Print the file names, size, and links:"
   ]
  },
  {
   "cell_type": "code",
   "execution_count": null,
   "metadata": {},
   "outputs": [],
   "source": [
    "granules = response.json()['feed']['entry']\n",
    "\n",
    "for granule in granules:\n",
    "    print(f'{granule[\"producer_granule_id\"]} {granule[\"granule_size\"]} {granule[\"links\"][0][\"href\"]}')"
   ]
  },
  {
   "cell_type": "markdown",
   "metadata": {},
   "source": [
    "### Download ICESat-2 ATL03 granule\n",
    "[TODO] Describe what services are available, including icepyx (provide references), but just direct download for simplicity. Describe that this is being \"downloaded\" to our cloud environment - what does that mean in terms of cost, etc.\n",
    "\n",
    "We've found 2 granules.  We'll download the first one and write it to a file with the same name as the `producer_granule_id`.\n",
    "\n",
    "We need the url for the granule as well.  This is `href` links we printed out above."
   ]
  },
  {
   "cell_type": "code",
   "execution_count": null,
   "metadata": {},
   "outputs": [],
   "source": [
    "icesat_id = granules[0][\"producer_granule_id\"]\n",
    "icesat_url = granules[0]['links'][0]['href']"
   ]
  },
  {
   "cell_type": "markdown",
   "metadata": {},
   "source": [
    "You need Earthdata login credentials to download data from NASA DAACs.  These are the credentials you stored in the `.netrc` file you setup in previous tutorials.  \n",
    "\n",
    "We'll use the `netrc` package to retrieve your login and password without exposing them."
   ]
  },
  {
   "cell_type": "code",
   "execution_count": null,
   "metadata": {},
   "outputs": [],
   "source": [
    "info = netrc.netrc()\n",
    "login, account, password = info.authenticators('urs.earthdata.nasa.gov')"
   ]
  },
  {
   "cell_type": "markdown",
   "metadata": {},
   "source": [
    "To retrieve the granule data, we use the `requests.get()` method, passing Earthdata login credentials as a `tuple` using the `auth` keyword."
   ]
  },
  {
   "cell_type": "code",
   "execution_count": null,
   "metadata": {},
   "outputs": [],
   "source": [
    "r = requests.get(icesat_url, auth=(login, password))"
   ]
  },
  {
   "cell_type": "markdown",
   "metadata": {},
   "source": [
    "The response returned by requests has the same structure as all the other responses: a header and contents.  The header information has information about the response, including the size of the data we downloaded in bytes. "
   ]
  },
  {
   "cell_type": "code",
   "execution_count": null,
   "metadata": {},
   "outputs": [],
   "source": [
    "for k, v in r.headers.items():\n",
    "    print(f'{k}: {v}')"
   ]
  },
  {
   "cell_type": "markdown",
   "metadata": {},
   "source": [
    "The contents needs to be saved to a file.  To keep the directory clean, we will create a `downloads` directory to store the file.  We can use a shell command to do this or use the `mkdir` method from the `os` package. "
   ]
  },
  {
   "cell_type": "code",
   "execution_count": null,
   "metadata": {},
   "outputs": [],
   "source": [
    "os.mkdir('downloads')"
   ]
  },
  {
   "cell_type": "markdown",
   "metadata": {},
   "source": [
    "You should see a `downloads` directory in the file browser."
   ]
  },
  {
   "cell_type": "markdown",
   "metadata": {},
   "source": [
    "To write the data to a file, we use `open` to open a file.  We need to specify that the file is open for writing by using the _write-mode_ `w`.  We also need to specify that we want to write bytes by setting the _binary-mode_ `b`.  This is important because the response contents are bytes.  The default mode for `open` is `text-mode`. So make sure you use `b`.\n",
    "\n",
    "We'll use the `with` statement _context-manager_ to open the file, write the contents of the response, and then close the file.  Once the data in `r.content` is written sucessfully to the file, or if there is an error, the file is closed by the _context-manager_.\n",
    "\n",
    "We also need to prepend the `downloads` path to the filename.  We do this using `Path` from the `pathlib` package in the standard library."
   ]
  },
  {
   "cell_type": "code",
   "execution_count": null,
   "metadata": {},
   "outputs": [],
   "source": [
    "outfile = Path('downloads', icesat_id)\n",
    "with open(outfile, 'wb') as f:\n",
    "    f.write(r.content)"
   ]
  },
  {
   "cell_type": "markdown",
   "metadata": {},
   "source": [
    "Check to make sure it is downloaded."
   ]
  },
  {
   "cell_type": "code",
   "execution_count": null,
   "metadata": {
    "tags": []
   },
   "outputs": [],
   "source": [
    "ls -l ./downloads"
   ]
  },
  {
   "cell_type": "markdown",
   "metadata": {},
   "source": [
    "`ATL03_20190622061415_12980304_004_01.h5` is an HDF5 file.  `xarray` can open this but you need to tell it which group to read the data from.  In this case we read the height data for ground-track 1 left-beam."
   ]
  },
  {
   "cell_type": "code",
   "execution_count": null,
   "metadata": {},
   "outputs": [],
   "source": [
    "outfile = Path('downloads', icesat_id)\n",
    "ds = xr.open_dataset(icesat_id, group='/gt1l/heights')\n",
    "ds"
   ]
  },
  {
   "cell_type": "markdown",
   "metadata": {},
   "source": [
    "### Determine variables of interest: SST, ocean color, chemistry..."
   ]
  },
  {
   "cell_type": "code",
   "execution_count": null,
   "metadata": {},
   "outputs": [],
   "source": [
    "response = requests.get(cmr_collection_url, \n",
    "                        params={\n",
    "                            'concept_id': 'C1940475563-POCLOUD',\n",
    "                            'cloud_hosted': 'True',\n",
    "                            },\n",
    "                        headers={\n",
    "                            'Accept': 'application/json'\n",
    "                            }\n",
    "                       )\n",
    "response = response.json()\n",
    "variables = response['feed']['entry'][0]['associations']['variables']\n",
    "output_format = \"umm_json\"\n",
    "var_url = \"https://cmr.earthdata.nasa.gov/search/variables\"\n",
    "for i in range(len(variables)):\n",
    "    response = requests.get(f\"{var_url}.{output_format}?concept-id={variables[i]}\")\n",
    "    response = response.json()\n",
    "    # print(response['items'][0]['umm'])\n",
    "    if 'Name' in response['items'][0]['umm']: pprint(response['items'][0]['umm']['Name'])"
   ]
  },
  {
   "cell_type": "markdown",
   "metadata": {},
   "source": [
    "### Pull those variables into xarray \"in place\""
   ]
  },
  {
   "cell_type": "markdown",
   "metadata": {},
   "source": [
    "#### First, we need to determine the granules returned from our time and area of interest"
   ]
  },
  {
   "cell_type": "code",
   "execution_count": null,
   "metadata": {},
   "outputs": [],
   "source": [
    "response = requests.get(granule_url, \n",
    "                        params={\n",
    "                            'concept_id': 'C1940475563-POCLOUD',\n",
    "                            'temporal': temporal,\n",
    "                            'bounding_box': bounding_box,\n",
    "                            'page_size': 200,\n",
    "                            },\n",
    "                        headers={\n",
    "                            'Accept': 'application/json'\n",
    "                            }\n",
    "                       )\n",
    "print(response.status_code)\n",
    "print(response.headers['CMR-Hits'])"
   ]
  },
  {
   "cell_type": "code",
   "execution_count": null,
   "metadata": {},
   "outputs": [],
   "source": [
    "modis_granules_meta = response.json()['feed']['entry']\n",
    "for granule_meta in modis_granules_meta:\n",
    "    print(granule_meta['boxes'])\n",
    "    print(granule_meta['links'][0]['href'])"
   ]
  },
  {
   "cell_type": "code",
   "execution_count": null,
   "metadata": {},
   "outputs": [],
   "source": [
    "https_link = modis_granules_meta[0]['links'][0]['href']\n",
    "s3_link = https_link.replace('https://archive.podaac.earthdata.nasa.gov/','s3://')\n",
    "s3_link"
   ]
  },
  {
   "cell_type": "markdown",
   "metadata": {},
   "source": [
    "### Get S3 credentials"
   ]
  },
  {
   "cell_type": "code",
   "execution_count": null,
   "metadata": {},
   "outputs": [],
   "source": [
    "s3_credentials = requests.get('https://archive.podaac.earthdata.nasa.gov/s3credentials').json()"
   ]
  },
  {
   "cell_type": "code",
   "execution_count": null,
   "metadata": {},
   "outputs": [],
   "source": [
    "s3_fs = s3fs.S3FileSystem(\n",
    "    key=s3_credentials[\"accessKeyId\"],\n",
    "    secret=s3_credentials[\"secretAccessKey\"],\n",
    "    token=s3_credentials[\"sessionToken\"],\n",
    ")"
   ]
  },
  {
   "cell_type": "markdown",
   "metadata": {},
   "source": [
    "### Open a s3 file"
   ]
  },
  {
   "cell_type": "code",
   "execution_count": null,
   "metadata": {},
   "outputs": [],
   "source": [
    "f = s3_fs.open(s3_link)\n",
    "ds = xr.open_dataset(f, engine='h5netcdf')"
   ]
  },
  {
   "cell_type": "markdown",
   "metadata": {},
   "source": [
    "### Use geolocation of ICESat-2 to define the single transect used to pull coincident ocean data out from array"
   ]
  },
  {
   "cell_type": "code",
   "execution_count": null,
   "metadata": {},
   "outputs": [],
   "source": []
  },
  {
   "cell_type": "markdown",
   "metadata": {},
   "source": [
    "### Create a plot of the single transect of gridded data \n",
    "\n",
    "(bonus: time series) - describe what this means to egress out of the cloud versus pulling the original data down (benefit to processing in the cloud)"
   ]
  },
  {
   "cell_type": "code",
   "execution_count": null,
   "metadata": {},
   "outputs": [],
   "source": []
  },
  {
   "cell_type": "markdown",
   "metadata": {},
   "source": [
    "## Download MODIS GHRSST data from Cloud"
   ]
  },
  {
   "cell_type": "code",
   "execution_count": null,
   "metadata": {},
   "outputs": [],
   "source": [
    "from shapely.geometry import box"
   ]
  },
  {
   "cell_type": "code",
   "execution_count": null,
   "metadata": {},
   "outputs": [],
   "source": [
    "map_proj = ccrs.PlateCarree()"
   ]
  },
  {
   "cell_type": "code",
   "execution_count": null,
   "metadata": {},
   "outputs": [],
   "source": [
    "def bbox_geometry(boxs, t_crs=ccrs.NorthPolarStereo()):\n",
    "    '''Generates a shapely.geometry.box object from boxes metadata'''\n",
    "    lat_min, lon_min, lat_max, lon_max = [float(v) for v in bbox.split()]\n",
    "    x_min, y_min = t_crs.transform_point(lon_min, lat_min, ccrs.PlateCarree())\n",
    "    x_max, y_max = t_crs.transform_point(lon_max, lat_max, ccrs.PlateCarree())\n",
    "    return box(x_min, y_min, x_max, y_max)\n",
    "\n",
    "bbox_features = []\n",
    "for granule in modis_granules_meta:\n",
    "    for bbox in granule['boxes']:\n",
    "        bbox_features.append(bbox_geometry(bbox))"
   ]
  },
  {
   "cell_type": "code",
   "execution_count": null,
   "metadata": {},
   "outputs": [],
   "source": [
    "fig = plt.figure(figsize=(7,7))\n",
    "ax = fig.add_subplot(projection=ccrs.NorthPolarStereo())\n",
    "ax.set_extent([-180.,180.,60.,90.], ccrs.PlateCarree())\n",
    "ax.coastlines()\n",
    "ax.add_geometries([bbox_features[0]], crs=map_proj, alpha=0.3)"
   ]
  },
  {
   "cell_type": "markdown",
   "metadata": {},
   "source": [
    "---"
   ]
  },
  {
   "cell_type": "markdown",
   "metadata": {},
   "source": [
    "## Resources (optional)"
   ]
  },
  {
   "cell_type": "markdown",
   "metadata": {},
   "source": [
    "---"
   ]
  },
  {
   "cell_type": "markdown",
   "metadata": {},
   "source": [
    "## Conclusion"
   ]
  },
  {
   "cell_type": "code",
   "execution_count": null,
   "metadata": {},
   "outputs": [],
   "source": []
  }
 ],
 "metadata": {
  "kernelspec": {
   "display_name": "Python 3 (ipykernel)",
   "language": "python",
   "name": "python3"
  },
  "language_info": {
   "codemirror_mode": {
    "name": "ipython",
    "version": 3
   },
   "file_extension": ".py",
   "mimetype": "text/x-python",
   "name": "python",
   "nbconvert_exporter": "python",
   "pygments_lexer": "ipython3",
   "version": "3.9.7"
  }
 },
 "nbformat": 4,
 "nbformat_minor": 4
}
