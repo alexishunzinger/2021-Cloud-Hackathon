{
  "cells": [
    {
      "cell_type": "markdown",
      "metadata": {},
      "source": [
        "# 06. Sentinel-6 MF L2 Altimetry Data Access (OPeNDAP) & Gridding\n",
        "\n",
        "To-dos:\n",
        "* Add tutorial objectives, e.g. How much data are we selecting/where? Over a certain Cycle?\n",
        "* What is the goal of the tutorial? e.g. Grab ___ cycle(s)/pass(es) to plot satellite altimetry tracks from S6 using opendap in the cloud to only select data we are interested in, reducing the data volume and time-to-data.\n",
        "\n",
        "## Getting Started\n",
        "\n",
        "### Summary\n",
        "\n",
        "*Description goes here...*\n",
        "\n",
        "### Objectives\n",
        "\n",
        "In this tutorial you will learn...\n",
        "\n",
        "1. about level 2 radar altimetry data from the Sentinel-6 Michael Freilich mission;\n",
        "2. how to efficiently download variable subsets using OPeNDAP;\n",
        "3. how to grid the along-track altimetry observations produced by S6 at level 2.;\n",
        "\n",
        "\n",
        "### Requirements\n",
        "\n",
        "This workflow was developed using Python 3.9 (and tested against versions 3.7, 3.8)."
      ]
    },
    {
      "cell_type": "code",
      "metadata": {},
      "source": [
        "#"
      ],
      "execution_count": null,
      "outputs": []
    },
    {
      "cell_type": "code",
      "metadata": {},
      "source": [
        "#"
      ],
      "execution_count": null,
      "outputs": []
    },
    {
      "cell_type": "markdown",
      "metadata": {},
      "source": [
        "### Workspace\n",
        "\n",
        "Create some directories inside a temporary user workspace. They will be used to write outputs."
      ]
    },
    {
      "cell_type": "code",
      "metadata": {},
      "source": [
        "#"
      ],
      "execution_count": null,
      "outputs": []
    },
    {
      "cell_type": "markdown",
      "metadata": {},
      "source": [
        ">https://docs.python.org/3/library/os.html#os.makedirs\n",
        "\n",
        "## Dataset(s)\n",
        "\n",
        "This example operates on Level 2 Low Resolution Altimetry from Sentinel-6 Michael Freilich (the Near Real Time Reduced distribution). It is most easily identified by its collection *ShortName*, given below:"
      ]
    },
    {
      "cell_type": "code",
      "metadata": {},
      "source": [
        "#"
      ],
      "execution_count": null,
      "outputs": []
    },
    {
      "cell_type": "markdown",
      "metadata": {},
      "source": [
        "Search CMR using a simple function that wraps `requests.get`:\n",
        "\n",
        "#### collection"
      ]
    },
    {
      "cell_type": "code",
      "metadata": {},
      "source": [
        "#"
      ],
      "execution_count": null,
      "outputs": []
    },
    {
      "cell_type": "markdown",
      "metadata": {},
      "source": [
        "Get the collection's *concept-id* from the record's `meta` object. It uniquely identifies the collection in the CMR and is a component of the OPeNDAP endpoints for its granules."
      ]
    },
    {
      "cell_type": "code",
      "metadata": {},
      "source": [
        "#"
      ],
      "execution_count": null,
      "outputs": []
    },
    {
      "cell_type": "markdown",
      "metadata": {},
      "source": [
        ">https://docs.python-requests.org/en/latest/api/#requests.get\n",
        "\n",
        "#### granules"
      ]
    },
    {
      "cell_type": "code",
      "metadata": {},
      "source": [
        "#"
      ],
      "execution_count": null,
      "outputs": []
    },
    {
      "cell_type": "markdown",
      "metadata": {},
      "source": [
        ">https://docs.python.org/3/library/io.html#io.StringIO    \n",
        ">https://pandas.pydata.org/pandas-docs/stable/reference/api/pandas.read_csv.html    \n",
        ">https://docs.python-requests.org/en/latest/api/#requests.get     "
      ]
    },
    {
      "cell_type": "code",
      "metadata": {},
      "source": [
        "#"
      ],
      "execution_count": null,
      "outputs": []
    },
    {
      "cell_type": "markdown",
      "metadata": {},
      "source": [
        ">https://pandas.pydata.org/pandas-docs/stable/reference/api/pandas.DataFrame.iloc.html\n",
        "\n",
        "Display the list of items created by splitting the a value in the `Granule UR` field."
      ]
    },
    {
      "cell_type": "code",
      "metadata": {},
      "source": [
        "#"
      ],
      "execution_count": null,
      "outputs": []
    },
    {
      "cell_type": "markdown",
      "metadata": {},
      "source": [
        "References:    \n",
        "https://docs.python.org/3/library/stdtypes.html#str.split    \n",
        "https://pandas.pydata.org/pandas-docs/stable/reference/api/pandas.Series.iloc.html    \n",
        "\n",
        "*Note that cycle and pass are items 8 and 9, respectively, after splitting the `Granule UR` field by `_`.* Add two columns containing the cycle/pass numbers for granules in the table."
      ]
    },
    {
      "cell_type": "code",
      "metadata": {},
      "source": [
        "#"
      ],
      "execution_count": null,
      "outputs": []
    },
    {
      "cell_type": "markdown",
      "metadata": {},
      "source": [
        ">https://pandas.pydata.org/pandas-docs/stable/reference/api/pandas.DataFrame.copy.html    \n",
        ">https://pandas.pydata.org/pandas-docs/stable/reference/api/pandas.Series.apply.html    \n",
        ">https://docs.python.org/3/reference/expressions.html#lambda    \n",
        ">https://pandas.pydata.org/pandas-docs/stable/reference/api/pandas.DataFrame.iloc.html    \n",
        "\n",
        "Now create a table with one row per cycle and with these columns:\n",
        "\n",
        "1. start time\n",
        "2. end time\n",
        "3. granule names (list)"
      ]
    },
    {
      "cell_type": "code",
      "metadata": {},
      "source": [
        "#"
      ],
      "execution_count": null,
      "outputs": []
    },
    {
      "cell_type": "markdown",
      "metadata": {},
      "source": [
        ">https://pandas.pydata.org/pandas-docs/stable/reference/api/pandas.Series.to_frame.html    \n",
        ">https://pandas.pydata.org/pandas-docs/stable/reference/api/pandas.DataFrame.groupby.html\n",
        "\n",
        "#### Pick a cycle of interest\n",
        "\n",
        "Pick one cycle that is nearly complete, >= 120 orbits/files. Limit options to cycles with at least 120 granules/files available (i.e. orbits in S6 context)."
      ]
    },
    {
      "cell_type": "code",
      "metadata": {},
      "source": [
        "#"
      ],
      "execution_count": null,
      "outputs": []
    },
    {
      "cell_type": "markdown",
      "metadata": {},
      "source": [
        "Choose from the nearly-complete cycles that remain in the table, which start with cycle number `023` for S6 data in the public domain (and start on June 22). Slice the table of *granules* to exclude all rows that are not from the cycle of interest."
      ]
    },
    {
      "cell_type": "code",
      "metadata": {},
      "source": [
        "#"
      ],
      "execution_count": null,
      "outputs": []
    },
    {
      "cell_type": "markdown",
      "metadata": {},
      "source": [
        "#### OPeNDAP Access Endpoints\n",
        "\n",
        "All endpoints for granules/files in OPeNDAP/Hyrax start with the server hostname and path to the parent collection, followed by *granules*. The collection is specified by the *concept-id* given right after *collections* in a valid url. The next cell formats a string giving the base url to which we will append granule filenames (stored in the `Granule UR` column of the *granules* table) to get the full url/endpoint for each granule.\n",
        "\n",
        "*Fyi, the url printed by this cell will not be accessible from your web browser.*"
      ]
    },
    {
      "cell_type": "code",
      "metadata": {},
      "source": [
        "#"
      ],
      "execution_count": null,
      "outputs": []
    },
    {
      "cell_type": "markdown",
      "metadata": {},
      "source": [
        ">https://docs.python.org/3/library/string.html#format-string-syntax    \n",
        "\n",
        "Appending the granule name (taken from the `Granule UR` column) to the end of the url above results in a valid endpoint. You can click the one printed by this cell to confirm. A new browser tab should open to the HTML access form served by Hyrax/OPeNDAP.\n",
        "\n",
        "Make a new column with the `nc4` download url for all granules."
      ]
    },
    {
      "cell_type": "code",
      "metadata": {},
      "source": [
        "#"
      ],
      "execution_count": null,
      "outputs": []
    },
    {
      "cell_type": "markdown",
      "metadata": {},
      "source": [
        " >https://pandas.pydata.org/pandas-docs/stable/reference/api/pandas.DataFrame.info.html    \n",
        "\n",
        "##### Pick target data/coordinate variables\n",
        "\n",
        "Display the url to access the DDS file for the first granule:"
      ]
    },
    {
      "cell_type": "code",
      "metadata": {},
      "source": [
        "#"
      ],
      "execution_count": null,
      "outputs": []
    },
    {
      "cell_type": "markdown",
      "metadata": {},
      "source": [
        ">https://pandas.pydata.org/pandas-docs/stable/reference/api/pandas.Series.iloc.html    \n",
        "\n",
        "Assemble the list of target variables that you will subset from each granule/file using OPeNDAP."
      ]
    },
    {
      "cell_type": "code",
      "metadata": {},
      "source": [
        "#"
      ],
      "execution_count": null,
      "outputs": []
    },
    {
      "cell_type": "markdown",
      "metadata": {},
      "source": [
        ">https://docs.python.org/3/library/stdtypes.html#list    \n",
        "\n",
        "Join the list of variables with commas and append the resulting string to the end of each opendap `nc4` endpoint created during the steps above. The variables given after the `?` will be subset from the source file on the server-side into a new netCDF4 file that OPeNDAP returns in response content which is downloaded over https.\n",
        "\n",
        "Here's an example for the first granule in the selected cycle. Clicking this link should download a netCDF4 containing the target variables (4 of them, in my case). *You may be prompted to authenticate with your Earthdata Login account info."
      ]
    },
    {
      "cell_type": "code",
      "metadata": {},
      "source": [
        "#"
      ],
      "execution_count": null,
      "outputs": []
    },
    {
      "cell_type": "markdown",
      "metadata": {},
      "source": [
        ">https://opendap.github.io/documentation/UserGuideComprehensive.html#Constraint_Expressions (Hyrax/OPeNDAP docs)    \n",
        "\n",
        "#### Download subsets\n",
        "\n",
        "This function downloads one granule from the remote `url` to a local `target` path, and will reliably manage simultaneous streaming downloads divided between multiple threads."
      ]
    },
    {
      "cell_type": "code",
      "metadata": {},
      "source": [
        "#"
      ],
      "execution_count": null,
      "outputs": []
    },
    {
      "cell_type": "markdown",
      "metadata": {},
      "source": [
        ">https://docs.python.org/3/library/os.path.html#os.path.isfile    \n",
        ">https://docs.python-requests.org/en/latest/api/#requests.Response.text    \n",
        ">https://docs.python-requests.org/en/latest/api/#requests.Response.status_code    \n",
        ">https://docs.python-requests.org/en/latest/api/#requests.Response.iter_content    "
      ]
    },
    {
      "cell_type": "code",
      "metadata": {},
      "source": [
        "#"
      ],
      "execution_count": null,
      "outputs": []
    },
    {
      "cell_type": "markdown",
      "metadata": {},
      "source": [
        "*This next cell assembles a list of local paths for the subset downloads.*\n",
        "\n",
        "Calling `tolist` on the resulting Series will convert it to a Python list (by way of the *numpy* method, *tolist*). Use *zip* merge the lists of *subset* urls and local paths, itemwise. The result will be a list of lists, each length two and containing a remote url and local path (corresponding to two positional arguments in the *download* function that will be defined in a subsequent cell)."
      ]
    },
    {
      "cell_type": "code",
      "metadata": {},
      "source": [
        "#"
      ],
      "execution_count": null,
      "outputs": []
    },
    {
      "cell_type": "markdown",
      "metadata": {},
      "source": [
        ">https://pandas.pydata.org/pandas-docs/stable/reference/api/pandas.Series.tolist.html    \n",
        "\n",
        "*This next cell creates a pool of workers to divide the list of downloads between multiple threads.*\n",
        "\n",
        "Use the `ThreadPoolExecutor` from `concurrent.futures` module (in the Python 3 standard library) to divide the 120+ download jobs between multiple threads and run them concurrently. This should take no more than a minute or two to process all subsets on the server side and download to the local host."
      ]
    },
    {
      "cell_type": "code",
      "metadata": {},
      "source": [
        "#"
      ],
      "execution_count": null,
      "outputs": []
    },
    {
      "cell_type": "markdown",
      "metadata": {},
      "source": [
        ">https://docs.python.org/3/library/concurrent.futures.html#threadpoolexecutor    \n",
        "\n",
        "The source files range from 2.5MB to 3.0MB. These OPeNDAP subsets are ~100KB apiece. (anecdote: it took less than 10 minutes to download subsets for >1700 granules/files when I ran this routine for all cycles going back to 2021-06-22.) Here we call the shell *du* and *ls* utilities to get the size of the directory:"
      ]
    },
    {
      "cell_type": "code",
      "metadata": {},
      "source": [
        "#"
      ],
      "execution_count": null,
      "outputs": []
    },
    {
      "cell_type": "markdown",
      "metadata": {},
      "source": [
        ">https://www.gnu.org/software/coreutils/manual/html_node/du-invocation.html    \n",
        "\n",
        "Confirm that a netcdf file exists on disk for all the file paths in the *local* column."
      ]
    },
    {
      "cell_type": "code",
      "metadata": {},
      "source": [
        "#"
      ],
      "execution_count": null,
      "outputs": []
    },
    {
      "cell_type": "markdown",
      "metadata": {},
      "source": [
        ">https://docs.python.org/3/library/functions.html#sorted    \n",
        ">https://pandas.pydata.org/pandas-docs/stable/reference/api/pandas.Series.all.html    \n",
        "\n",
        "#### Aggregate to cycle\n",
        "\n",
        "Make a dictionary to rename variables so that the `data_01_` prefix is removed from each one."
      ]
    },
    {
      "cell_type": "code",
      "metadata": {},
      "source": [
        "#"
      ],
      "execution_count": null,
      "outputs": []
    },
    {
      "cell_type": "markdown",
      "metadata": {},
      "source": [
        "References:    \n",
        "https://docs.python.org/3/library/functions.html#map    \n",
        "https://docs.python.org/3/library/functions.html#zip    \n",
        "\n",
        "Sort the list of local paths to the downloaded subsets to ensure they concatenate in proper order. Call `open_mfdataset` on the list to open all the subsets in memory as one dataset in xarray."
      ]
    },
    {
      "cell_type": "code",
      "metadata": {},
      "source": [
        "#"
      ],
      "execution_count": null,
      "outputs": []
    },
    {
      "cell_type": "markdown",
      "metadata": {},
      "source": [
        ">https://tqdm.github.io/docs/tqdm/#pandas    \n",
        ">https://xarray.pydata.org/en/stable/generated/xarray.open_mfdataset.html    \n",
        ">https://xarray.pydata.org/en/stable/generated/xarray.Dataset.rename.html  \n",
        "\n",
        "### Render along-track altimetry data to the ECCO grid \n",
        "\n",
        ">**Acknowledgement** *This approach using `pyresample` was shared to me by Ian Fenty, ECCO Lead.*\n",
        "\n",
        "ECCO V4r4 products are distributed in two spatial formats. One set of collections provides the ocean state estimates on the native model grid (LLC0090) and the other provides them after interpolating to a regular grid defined in geographic coordinates with horizontal cell size of 0.5-degrees.\n",
        "\n",
        "#### Download the ECCO V4r4 0.5-Deg Grid Geometry and Mask\n",
        "\n",
        "It's distributed as its own dataset/collection containing just one file. We can access it over OPeNDAP like demonstrated above or simply download it from the HTTPS download endpoint -- the file size is inconsequential. The next cell downloads the file into the *data* folder from the granule's https endpoint."
      ]
    },
    {
      "cell_type": "code",
      "metadata": {},
      "source": [
        "#"
      ],
      "execution_count": null,
      "outputs": []
    },
    {
      "cell_type": "markdown",
      "metadata": {},
      "source": [
        ">https://docs.python.org/3/library/os.path.html#os.path.basename    \n",
        ">https://xarray.pydata.org/en/stable/generated/xarray.open_dataset.html    \n",
        "\n",
        "The `maskC` variable contains a boolean mask representing the wet/dry state of the area contained in each cell of the 3d grid defined by `Z` and `latitude` and `longitude`.\n",
        "\n",
        "Here are the variable's attributes:"
      ]
    },
    {
      "cell_type": "code",
      "metadata": {},
      "source": [
        "#"
      ],
      "execution_count": null,
      "outputs": []
    },
    {
      "cell_type": "markdown",
      "metadata": {},
      "source": [
        "So, the mask derives from another variable `hFacC` that essentially describes 3d space/volume contained within each model grid cell by the fractional area representing the horizontal coverage (in the `longitude,latitude` dimensions) within each vertical/depth layer."
      ]
    },
    {
      "cell_type": "code",
      "metadata": {},
      "source": [
        "#"
      ],
      "execution_count": null,
      "outputs": []
    },
    {
      "cell_type": "markdown",
      "metadata": {},
      "source": [
        "Select the 2d array from `maskC` that corresponds to the depth layer at ocean surface (i.e. at index `0` on the `Z` axis/dimension) and then produce a boolean array where True represents cells with a value greater than `0`. The resulting array/grid is our land/water mask for the 2d grids generated during the next few steps.\n",
        "\n",
        "Plot the land/water mask:"
      ]
    },
    {
      "cell_type": "code",
      "metadata": {},
      "source": [
        "#"
      ],
      "execution_count": null,
      "outputs": []
    },
    {
      "cell_type": "markdown",
      "metadata": {},
      "source": [
        ">https://xarray.pydata.org/en/stable/generated/xarray.DataArray.isel.html    \n",
        ">https://xarray.pydata.org/en/stable/generated/xarray.DataArray.plot.html    \n",
        "\n",
        "### Grid ssha or a similar variable\n",
        "\n",
        "*Jinbo's recommendation: wrap this logic for parameterization by workshop attendees.*\n",
        "\n",
        "Get a single timestamp to represent the midpoint of the cycle."
      ]
    },
    {
      "cell_type": "code",
      "metadata": {},
      "source": [
        "#"
      ],
      "execution_count": null,
      "outputs": []
    },
    {
      "cell_type": "markdown",
      "metadata": {},
      "source": [
        "Access the target variable, *ssha* in this case, and make a nan mask."
      ]
    },
    {
      "cell_type": "code",
      "metadata": {},
      "source": [
        "#"
      ],
      "execution_count": null,
      "outputs": []
    },
    {
      "cell_type": "markdown",
      "metadata": {},
      "source": [
        "Define a simple function *get_grid_defn* to validate input arrays of longitudes/latitudes and return a *pyresample.geometry.SwathDefinition* object. (We use it twice to define source/target grids in the next steps.)"
      ]
    },
    {
      "cell_type": "code",
      "metadata": {},
      "source": [
        "#"
      ],
      "execution_count": null,
      "outputs": []
    },
    {
      "cell_type": "markdown",
      "metadata": {},
      "source": [
        "Define source grid/geometry for the input along-track data. (They are stored as 1-dimensional arrays.)"
      ]
    },
    {
      "cell_type": "code",
      "metadata": {},
      "source": [
        "#"
      ],
      "execution_count": null,
      "outputs": []
    },
    {
      "cell_type": "markdown",
      "metadata": {},
      "source": [
        "Define target grid based on the longitudes and latitudes from the ECCO grid geometry dataset. This time define the grid using two 2-dimensional arrays that give positions of all SSHA values in geographic/longitude-latitude coordinates."
      ]
    },
    {
      "cell_type": "code",
      "metadata": {},
      "source": [
        "#"
      ],
      "execution_count": null,
      "outputs": []
    },
    {
      "cell_type": "markdown",
      "metadata": {},
      "source": [
        "Make the *pyresample* object for the target grid and proceed."
      ]
    },
    {
      "cell_type": "code",
      "metadata": {},
      "source": [
        "#"
      ],
      "execution_count": null,
      "outputs": []
    },
    {
      "cell_type": "markdown",
      "metadata": {},
      "source": [
        "Show the help for `pyresample.kdtree.resample_gauss` to aid during the hackathon."
      ]
    },
    {
      "cell_type": "code",
      "metadata": {},
      "source": [
        "#"
      ],
      "execution_count": null,
      "outputs": []
    },
    {
      "cell_type": "markdown",
      "metadata": {},
      "source": [
        "Get the target grid definition defined by the 2d arrays of lons and lats created in the cell above. Apply gaussian resampling with some optional arguments (borrowed from Ian's implementation)."
      ]
    },
    {
      "cell_type": "code",
      "metadata": {},
      "source": [
        "#"
      ],
      "execution_count": null,
      "outputs": []
    },
    {
      "cell_type": "markdown",
      "metadata": {},
      "source": [
        "Apply the land/water mask in the numpy array created from the ECCO layer in the steps above. Then, convert the masked numpy array to an xarray data array object named *gridded*. Print its header."
      ]
    },
    {
      "cell_type": "code",
      "metadata": {},
      "source": [
        "#"
      ],
      "execution_count": null,
      "outputs": []
    },
    {
      "cell_type": "code",
      "metadata": {},
      "source": [
        "#"
      ],
      "execution_count": null,
      "outputs": []
    },
    {
      "cell_type": "code",
      "metadata": {},
      "source": [
        "#"
      ],
      "execution_count": null,
      "outputs": []
    },
    {
      "cell_type": "code",
      "metadata": {},
      "source": [
        "#"
      ],
      "execution_count": null,
      "outputs": []
    },
    {
      "cell_type": "markdown",
      "metadata": {},
      "source": [
        "**Additional References:**\n",
        "\n",
        "* *numpy* (https://numpy.org/doc/stable/reference)    \n",
        "    * [numpy.ndarray.data](https://numpy.org/doc/stable/reference/generated/numpy.ndarray.data.html)    \n",
        "    * [numpy.ravel](https://numpy.org/doc/stable/reference/generated/numpy.ravel.html)    \n",
        "    * [numpy.where](https://numpy.org/doc/stable/reference/generated/numpy.where.html)    \n",
        "    * [numpy.isnan](https://numpy.org/doc/stable/reference/generated/numpy.isnan.html)    \n",
        "    * [datetimes](https://numpy.org/doc/stable/reference/arrays.datetime.html)    \n",
        "* *xarray* (https://xarray.pydata.org/en/stable)    \n",
        "    * [xarray.DataArray](https://xarray.pydata.org/en/stable/generated/xarray.DataArray.html)    \n",
        "    * [xarray.DataArray.values](https://xarray.pydata.org/en/stable/generated/xarray.DataArray.values.html)    \n",
        "    * [xarray.DataArray.mean](https://xarray.pydata.org/en/stable/generated/xarray.DataArray.mean.html)    \n",
        "    * https://xarray.pydata.org/en/stable/generated/xarray.DataArray.plot.pcolormesh.html (matplotlib)    \n",
        "* *pyresample* (https://pyresample.readthedocs.io/en/latest/api/pyresample)    \n",
        "    * [pyresample.utils.check_and_wrap](https://pyresample.readthedocs.io/en/latest/api/pyresample.utils.html#pyresample.utils.check_and_wrap)    \n",
        "    * [pyresample.kd_tree.resample_gauss](https://pyresample.readthedocs.io/en/latest/api/pyresample.html#pyresample.kd_tree.resample_gauss)    \n",
        "    * [pyresample.geometry.SwathDefinition](https://pyresample.readthedocs.io/en/latest/api/pyresample.html#pyresample.geometry.SwathDefinition)    \n",
        "\n",
        "\n",
        "**Bonus**: generate a grid for every cycle and get mean/std over all the cycles\n",
        "\n",
        "```python\n",
        "stack = xr.concat(data['grid'].tolist(), dim=\"time\")\n",
        "\n",
        "midlat = stack.sel(latitude=slice(-66.,66.0))\n",
        "\n",
        "stats = xr.concat(objs=[midlat.mean(\"time\"),\n",
        "                        midlat.std(\"time\") ], \n",
        "                  dim=pd.Index(['mean','std'], name=\"stat\"))\n",
        "```\n",
        "\n",
        ">https://xarray.pydata.org/en/stable/generated/xarray.concat.html    \n",
        "\n",
        "**Bonus**: calculate area-weighted mean\n",
        "\n",
        "```python\n",
        "def to_area_weighted_mean(x):\n",
        "    nonzero_mask = np.where(~np.isnan(x), 1, np.nan)            # mask where nans=0 & ~nans=1\n",
        "    nonzero_area = np.sum(nonzero_mask * ecco_grid.area)        # total area where data is nonzero\n",
        "    return float(np.nansum(x * ecco_grid.area) / nonzero_area)  # area-weighted global mean\n",
        "```\n",
        "\n",
        ">https://numpy.org/doc/stable/reference/generated/numpy.sum.html    \n",
        ">https://numpy.org/doc/stable/reference/generated/numpy.nansum.html    \n"
      ]
    }
  ],
  "metadata": {
    "kernelspec": {
      "display_name": "Python 3",
      "language": "python",
      "name": "python3"
    }
  },
  "nbformat": 4,
  "nbformat_minor": 4
}